{
 "cells": [
  {
   "cell_type": "code",
   "execution_count": 2,
   "id": "172f2bfa",
   "metadata": {},
   "outputs": [
    {
     "name": "stdout",
     "output_type": "stream",
     "text": [
      "Lookalike recommendations with similarity scores have been saved to Lookalike.csv\n"
     ]
    }
   ],
   "source": [
    "import pandas as pd\n",
    "from sklearn.metrics.pairwise import cosine_similarity\n",
    "\n",
    "# Load datasets\n",
    "customers = pd.read_csv(\"Customers.csv\")\n",
    "products = pd.read_csv(\"Products.csv\")\n",
    "transactions = pd.read_csv(\"Transactions.csv\")\n",
    "\n",
    "# Merge datasets\n",
    "merged_data = transactions.merge(customers, on='CustomerID').merge(products, on='ProductID')\n",
    "\n",
    "# Create a pivot table for customer-product purchase quantity\n",
    "customer_product_matrix = pd.pivot_table(\n",
    "    merged_data,\n",
    "    values='Quantity',\n",
    "    index='CustomerID',\n",
    "    columns='ProductID',\n",
    "    fill_value=0\n",
    ")\n",
    "\n",
    "# Compute cosine similarity between customers\n",
    "similarity_matrix = cosine_similarity(customer_product_matrix)\n",
    "\n",
    "# Create a similarity DataFrame\n",
    "similarity_df = pd.DataFrame(\n",
    "    similarity_matrix,\n",
    "    index=customer_product_matrix.index,\n",
    "    columns=customer_product_matrix.index\n",
    ")\n",
    "\n",
    "# Generate Lookalike recommendations for the first 20 customers\n",
    "lookalikes = {}\n",
    "for customer_id in customers['CustomerID'][:20]:  # First 20 customers\n",
    "    if customer_id in similarity_df.index:\n",
    "        # Get the top 3 similar customers (excluding the customer themselves)\n",
    "        top_similar = similarity_df[customer_id].sort_values(ascending=False)[1:4]\n",
    "        # Create a list of tuples (customer_id, similarity_score)\n",
    "        lookalikes[customer_id] = list(zip(top_similar.index, top_similar.values))\n",
    "\n",
    "# Save the results in the specified format\n",
    "lookalike_df = pd.DataFrame.from_dict(lookalikes, orient='index')\n",
    "\n",
    "# Save to a CSV file, where each row is a customer with their lookalike list and similarity scores\n",
    "lookalike_df.to_csv(\"Lookalike.csv\", header=False, index_label=\"CustomerID\")\n",
    "\n",
    "print(\"Lookalike recommendations with similarity scores have been saved to Lookalike.csv\")"
   ]
  },
  {
   "cell_type": "code",
   "execution_count": null,
   "id": "f5f8931a",
   "metadata": {},
   "outputs": [],
   "source": []
  }
 ],
 "metadata": {
  "kernelspec": {
   "display_name": "Python 3 (ipykernel)",
   "language": "python",
   "name": "python3"
  },
  "language_info": {
   "codemirror_mode": {
    "name": "ipython",
    "version": 3
   },
   "file_extension": ".py",
   "mimetype": "text/x-python",
   "name": "python",
   "nbconvert_exporter": "python",
   "pygments_lexer": "ipython3",
   "version": "3.11.5"
  }
 },
 "nbformat": 4,
 "nbformat_minor": 5
}
